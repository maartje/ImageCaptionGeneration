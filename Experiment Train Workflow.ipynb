{
 "cells": [
  {
   "cell_type": "code",
   "execution_count": 1,
   "metadata": {
    "collapsed": true
   },
   "outputs": [],
   "source": [
    "import os\n",
    "import glob\n",
    "from torch.utils import data\n",
    "import torch\n",
    "import torch.nn as nn\n",
    "from torch import optim\n",
    "\n",
    "\n",
    "from ncg.image_caption_dataset import ImageCaptionDataset\n",
    "from ncg.models.train_model import train_iter\n",
    "from ncg.models.show_and_tell import ShowAndTell"
   ]
  },
  {
   "cell_type": "code",
   "execution_count": 29,
   "metadata": {},
   "outputs": [],
   "source": [
    "fpattern_image_encodings = os.path.join('output', 'demo', 'resnet18_avgpool', '*.jpg.pt')\n",
    "fpaths_image_encodings = glob.glob(fpattern_image_encodings)\n",
    "# TODO image splits\n",
    "# TODO val images not in demo data set\n",
    "\n",
    "fpattern_captions = os.path.join('output', 'demo', \"train.[0-9].en.pt\")\n",
    "fpaths_captions = glob.glob(fpattern_captions)\n",
    "fpaths_captions = [os.path.join('output', 'demo', \"train.1.en.pt\")]"
   ]
  },
  {
   "cell_type": "code",
   "execution_count": 30,
   "metadata": {},
   "outputs": [],
   "source": [
    "dataset_train = ImageCaptionDataset(\n",
    "    fpaths_image_encodings, \n",
    "    fpaths_captions)\n",
    "dataloader_train = data.DataLoader(dataset_train, batch_size = 1)"
   ]
  },
  {
   "cell_type": "code",
   "execution_count": 31,
   "metadata": {},
   "outputs": [],
   "source": [
    "vocab = torch.load(os.path.join('output', 'demo', 'vocab.pt'))\n",
    "vocab_size = vocab.vocab.n_words\n",
    "\n",
    "im1 = torch.load(fpaths_image_encodings[0])\n",
    "encoding_size = im1.size()[0]\n",
    "\n",
    "device = torch.device(\"cuda\" if torch.cuda.is_available() else \"cpu\")\n",
    "loss_criterion = nn.NLLLoss()\n",
    "learning_rate = 0.005\n",
    "max_epochs = 5\n",
    "\n",
    "# TODO: train iter everything moves to GPU\n",
    "decoder = ShowAndTell(encoding_size, vocab_size, device)\n",
    "optimizer = optim.SGD(decoder.decoder.parameters(), lr = learning_rate)"
   ]
  },
  {
   "cell_type": "code",
   "execution_count": 32,
   "metadata": {
    "collapsed": true
   },
   "outputs": [],
   "source": [
    "token_losses = []\n",
    "def fn_on_update(epoch, i, token_loss):\n",
    "    token_losses.append(token_loss)\n",
    "    if i % 100 == 0:\n",
    "        new_losses = token_losses[-100:]\n",
    "        print(epoch, i, sum(new_losses)/len(new_losses))"
   ]
  },
  {
   "cell_type": "code",
   "execution_count": 33,
   "metadata": {},
   "outputs": [
    {
     "name": "stdout",
     "output_type": "stream",
     "text": [
      "1 100 7.181354255676269\n",
      "1 200 6.1093105030059816\n",
      "1 300 5.688761115074158\n",
      "1 400 5.191423473358154\n",
      "1 500 5.230095751285553\n",
      "1 600 5.0970507645606995\n",
      "1 700 4.940425279140473\n",
      "1 800 4.79053778886795\n",
      "1 900 4.885478141307831\n",
      "1 1000 4.825052509307861\n",
      "2 100 4.700515766143798\n",
      "2 200 4.711035912036896\n",
      "2 300 4.733883557319641\n",
      "2 400 4.436252694129944\n",
      "2 500 4.668575603961944\n",
      "2 600 4.659923768043518\n",
      "2 700 4.529715754985809\n",
      "2 800 4.422660655975342\n",
      "2 900 4.571345474720001\n",
      "2 1000 4.550533931255341\n",
      "3 100 4.436657981872559\n",
      "3 200 4.467076804637909\n",
      "3 300 4.505985186100006\n",
      "3 400 4.199919283390045\n",
      "3 500 4.474245839118957\n",
      "3 600 4.473096518516541\n",
      "3 700 4.346262171268463\n",
      "3 800 4.24333487033844\n",
      "3 900 4.405389385223389\n",
      "3 1000 4.3986550116539\n",
      "4 100 4.283857326507569\n",
      "4 200 4.319849865436554\n",
      "4 300 4.361913802623749\n",
      "4 400 4.051162161827087\n",
      "4 500 4.341057794094086\n",
      "4 600 4.338972442150116\n",
      "4 700 4.215483071804047\n",
      "4 800 4.116042544841767\n",
      "4 900 4.278644165992737\n",
      "4 1000 4.283731174468994\n",
      "5 100 4.163591239452362\n",
      "5 200 4.20584362745285\n",
      "5 300 4.247589678764343\n",
      "5 400 3.9350054121017455\n",
      "5 500 4.235035374164581\n",
      "5 600 4.230183284282685\n",
      "5 700 4.1085860681533815\n",
      "5 800 4.013671026229859\n",
      "5 900 4.170833497047425\n",
      "5 1000 4.188980867862702\n"
     ]
    }
   ],
   "source": [
    "batch_losses = train_iter(decoder, dataloader_train, loss_criterion, \n",
    "                          optimizer, device, max_epochs, fn_on_update)"
   ]
  },
  {
   "cell_type": "code",
   "execution_count": null,
   "metadata": {},
   "outputs": [],
   "source": [
    "len(dataloader_train)"
   ]
  },
  {
   "cell_type": "code",
   "execution_count": 11,
   "metadata": {},
   "outputs": [
    {
     "data": {
      "text/plain": [
       "4067"
      ]
     },
     "execution_count": 11,
     "metadata": {},
     "output_type": "execute_result"
    }
   ],
   "source": [
    "len(token_losses)\n"
   ]
  },
  {
   "cell_type": "code",
   "execution_count": 15,
   "metadata": {},
   "outputs": [
    {
     "data": {
      "text/plain": [
       "[6.587995529174805,\n",
       " 2.8842263221740723,\n",
       " 3.233182191848755,\n",
       " 3.5987658500671387,\n",
       " 4.11681604385376]"
      ]
     },
     "execution_count": 15,
     "metadata": {},
     "output_type": "execute_result"
    }
   ],
   "source": [
    "token_losses[4::1000]"
   ]
  },
  {
   "cell_type": "code",
   "execution_count": 27,
   "metadata": {},
   "outputs": [
    {
     "data": {
      "text/plain": [
       "512"
      ]
     },
     "execution_count": 27,
     "metadata": {},
     "output_type": "execute_result"
    }
   ],
   "source": [
    "encoding_size"
   ]
  },
  {
   "cell_type": "code",
   "execution_count": null,
   "metadata": {
    "collapsed": true
   },
   "outputs": [],
   "source": []
  }
 ],
 "metadata": {
  "kernelspec": {
   "display_name": "Python 3",
   "language": "python",
   "name": "python3"
  },
  "language_info": {
   "codemirror_mode": {
    "name": "ipython",
    "version": 3
   },
   "file_extension": ".py",
   "mimetype": "text/x-python",
   "name": "python",
   "nbconvert_exporter": "python",
   "pygments_lexer": "ipython3",
   "version": "3.6.5"
  }
 },
 "nbformat": 4,
 "nbformat_minor": 2
}
